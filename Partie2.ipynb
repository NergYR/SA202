{
 "cells": [
  {
   "cell_type": "markdown",
   "metadata": {},
   "source": [
    "# Notebook SAE 202"
   ]
  },
  {
   "cell_type": "markdown",
   "metadata": {},
   "source": [
    "## Partie II\n"
   ]
  },
  {
   "cell_type": "code",
   "execution_count": 1,
   "metadata": {},
   "outputs": [],
   "source": [
    "import sounddevice as sd\n",
    "import numpy as np\n",
    "import matplotlib.pyplot as plt\n",
    "import scipy.signal as sc\n",
    "import soundfile as sf\n",
    "import time\n"
   ]
  },
  {
   "cell_type": "markdown",
   "metadata": {},
   "source": [
    "### Reception"
   ]
  },
  {
   "cell_type": "code",
   "execution_count": 6,
   "metadata": {},
   "outputs": [
    {
     "name": "stdout",
     "output_type": "stream",
     "text": [
      "   0 Mappeur de sons Microsoft - Input, MME (2 in, 0 out)\n",
      ">  1 Microphone (USB Audio Device), MME (1 in, 0 out)\n",
      "   2 Microphone (Conexant ISST Audio, MME (2 in, 0 out)\n",
      "   3 Mappeur de sons Microsoft - Output, MME (0 in, 2 out)\n",
      "<  4 Haut-parleurs (USB Audio Device, MME (0 in, 2 out)\n",
      "   5 Haut-parleur (Conexant ISST Aud, MME (0 in, 6 out)\n",
      "   6 Réseau de microphones (Conexant ISST Audio capture), Windows WDM-KS (2 in, 0 out)\n",
      "   7 Mixage stéréo (Conexant ISST Audio capture), Windows WDM-KS (2 in, 0 out)\n",
      "   8 Output 1 (Conexant ISST Audio output), Windows WDM-KS (0 in, 2 out)\n",
      "   9 Output 2 (Conexant ISST Audio output), Windows WDM-KS (0 in, 6 out)\n",
      "  10 Input (Conexant ISST Audio output), Windows WDM-KS (2 in, 0 out)\n",
      "  11 Headphones (Conexant ISST Audio headphone), Windows WDM-KS (0 in, 2 out)\n",
      "  12 Casque (@System32\\drivers\\bthhfenum.sys,#2;%1 Hands-Free%0\n",
      ";(Redmi Buds 4)), Windows WDM-KS (0 in, 1 out)\n",
      "  13 Casque (@System32\\drivers\\bthhfenum.sys,#2;%1 Hands-Free%0\n",
      ";(Redmi Buds 4)), Windows WDM-KS (1 in, 0 out)\n",
      "  14 Casque (), Windows WDM-KS (0 in, 2 out)\n",
      "  15 Haut-parleurs (USB Audio Device), Windows WDM-KS (0 in, 2 out)\n",
      "  16 Microphone (USB Audio Device), Windows WDM-KS (1 in, 0 out)\n",
      "Démarrage du stream\n",
      "Réception du chunk numéro 0 dont le premier éléments vaut [-6.1035156e-05]\n",
      "Réception du chunk numéro 1 dont le premier éléments vaut [6.1035156e-05]\n",
      "Réception du chunk numéro 2 dont le premier éléments vaut [-6.1035156e-05]\n",
      "Réception du chunk numéro 3 dont le premier éléments vaut [-9.1552734e-05]\n",
      "Réception du chunk numéro 4 dont le premier éléments vaut [-3.0517578e-05]\n",
      "Réception du chunk numéro 5 dont le premier éléments vaut [0.00012207]\n",
      "Réception du chunk numéro 6 dont le premier éléments vaut [-6.1035156e-05]\n",
      "Réception du chunk numéro 7 dont le premier éléments vaut [-9.1552734e-05]\n",
      "Réception du chunk numéro 8 dont le premier éléments vaut [9.1552734e-05]\n",
      "Réception du chunk numéro 9 dont le premier éléments vaut [-6.1035156e-05]\n",
      "Réception du chunk numéro 10 dont le premier éléments vaut [-0.00012207]\n",
      "Réception du chunk numéro 11 dont le premier éléments vaut [0.]\n",
      "Réception du chunk numéro 12 dont le premier éléments vaut [-6.1035156e-05]\n",
      "Réception du chunk numéro 13 dont le premier éléments vaut [-0.00012207]\n",
      "Réception du chunk numéro 14 dont le premier éléments vaut [0.]\n",
      "Réception du chunk numéro 15 dont le premier éléments vaut [0.]\n",
      "Réception du chunk numéro 16 dont le premier éléments vaut [-3.0517578e-05]\n",
      "Réception du chunk numéro 17 dont le premier éléments vaut [-9.1552734e-05]\n",
      "Réception du chunk numéro 18 dont le premier éléments vaut [3.0517578e-05]\n",
      "Réception du chunk numéro 19 dont le premier éléments vaut [3.0517578e-05]\n",
      "Réception du chunk numéro 20 dont le premier éléments vaut [3.0517578e-05]\n",
      "Réception du chunk numéro 21 dont le premier éléments vaut [3.0517578e-05]\n",
      "Réception du chunk numéro 22 dont le premier éléments vaut [0.]\n",
      "Réception du chunk numéro 23 dont le premier éléments vaut [-0.00012207]\n",
      "Réception du chunk numéro 24 dont le premier éléments vaut [0.]\n",
      "Réception du chunk numéro 25 dont le premier éléments vaut [0.00012207]\n",
      "Réception du chunk numéro 26 dont le premier éléments vaut [-0.00015259]\n",
      "Réception du chunk numéro 27 dont le premier éléments vaut [-3.0517578e-05]\n",
      "Réception du chunk numéro 28 dont le premier éléments vaut [0.00012207]\n",
      "Réception du chunk numéro 29 dont le premier éléments vaut [3.0517578e-05]\n",
      "Réception du chunk numéro 30 dont le premier éléments vaut [-0.00024414]\n",
      "Réception du chunk numéro 31 dont le premier éléments vaut [3.0517578e-05]\n",
      "Réception du chunk numéro 32 dont le premier éléments vaut [-9.1552734e-05]\n",
      "Réception du chunk numéro 33 dont le premier éléments vaut [-6.1035156e-05]\n",
      "Réception du chunk numéro 34 dont le premier éléments vaut [0.]\n",
      "Réception du chunk numéro 35 dont le premier éléments vaut [-3.0517578e-05]\n",
      "Réception du chunk numéro 36 dont le premier éléments vaut [-6.1035156e-05]\n",
      "Réception du chunk numéro 37 dont le premier éléments vaut [-0.00012207]\n",
      "Réception du chunk numéro 38 dont le premier éléments vaut [-6.1035156e-05]\n",
      "Réception du chunk numéro 39 dont le premier éléments vaut [3.0517578e-05]\n",
      "Réception du chunk numéro 40 dont le premier éléments vaut [0.00015259]\n",
      "Réception du chunk numéro 41 dont le premier éléments vaut [0.]\n",
      "Réception du chunk numéro 42 dont le premier éléments vaut [0.00015259]\n",
      "Réception du chunk numéro 43 dont le premier éléments vaut [3.0517578e-05]\n",
      "Réception du chunk numéro 44 dont le premier éléments vaut [-6.1035156e-05]\n",
      "Réception du chunk numéro 45 dont le premier éléments vaut [3.0517578e-05]\n",
      "Réception du chunk numéro 46 dont le premier éléments vaut [-0.00018311]\n",
      "Réception du chunk numéro 47 dont le premier éléments vaut [-6.1035156e-05]\n",
      "Réception du chunk numéro 48 dont le premier éléments vaut [3.0517578e-05]\n",
      "Réception du chunk numéro 49 dont le premier éléments vaut [-3.0517578e-05]\n",
      "Réception du chunk numéro 50 dont le premier éléments vaut [-3.0517578e-05]\n",
      "Réception du chunk numéro 51 dont le premier éléments vaut [0.00012207]\n",
      "Réception du chunk numéro 52 dont le premier éléments vaut [-6.1035156e-05]\n",
      "Réception du chunk numéro 53 dont le premier éléments vaut [-0.00015259]\n",
      "Réception du chunk numéro 54 dont le premier éléments vaut [6.1035156e-05]\n",
      "Réception du chunk numéro 55 dont le premier éléments vaut [-9.1552734e-05]\n",
      "Réception du chunk numéro 56 dont le premier éléments vaut [-0.00012207]\n",
      "Réception du chunk numéro 57 dont le premier éléments vaut [0.]\n",
      "Réception du chunk numéro 58 dont le premier éléments vaut [6.1035156e-05]\n",
      "Réception du chunk numéro 59 dont le premier éléments vaut [-0.00012207]\n",
      "Réception du chunk numéro 60 dont le premier éléments vaut [-6.1035156e-05]\n",
      "Réception du chunk numéro 61 dont le premier éléments vaut [0.]\n",
      "Réception du chunk numéro 62 dont le premier éléments vaut [3.0517578e-05]\n",
      "Réception du chunk numéro 63 dont le premier éléments vaut [0.00015259]\n",
      "Réception du chunk numéro 64 dont le premier éléments vaut [6.1035156e-05]\n",
      "Réception du chunk numéro 65 dont le premier éléments vaut [-3.0517578e-05]\n",
      "Réception du chunk numéro 66 dont le premier éléments vaut [-6.1035156e-05]\n",
      "Réception du chunk numéro 67 dont le premier éléments vaut [-9.1552734e-05]\n",
      "Réception du chunk numéro 68 dont le premier éléments vaut [3.0517578e-05]\n",
      "Réception du chunk numéro 69 dont le premier éléments vaut [-3.0517578e-05]\n",
      "Réception du chunk numéro 70 dont le premier éléments vaut [-6.1035156e-05]\n",
      "Réception du chunk numéro 71 dont le premier éléments vaut [0.00015259]\n",
      "Réception du chunk numéro 72 dont le premier éléments vaut [-0.00018311]\n",
      "Réception du chunk numéro 73 dont le premier éléments vaut [0.]\n",
      "Réception du chunk numéro 74 dont le premier éléments vaut [0.00012207]\n",
      "Réception du chunk numéro 75 dont le premier éléments vaut [-0.00015259]\n",
      "Réception du chunk numéro 76 dont le premier éléments vaut [-0.00018311]\n",
      "Réception du chunk numéro 77 dont le premier éléments vaut [-3.0517578e-05]\n",
      "Réception du chunk numéro 78 dont le premier éléments vaut [-9.1552734e-05]\n",
      "Réception du chunk numéro 79 dont le premier éléments vaut [-6.1035156e-05]\n",
      "Réception du chunk numéro 80 dont le premier éléments vaut [-3.0517578e-05]\n",
      "Réception du chunk numéro 81 dont le premier éléments vaut [-3.0517578e-05]\n",
      "Réception du chunk numéro 82 dont le premier éléments vaut [-0.00012207]\n",
      "Réception du chunk numéro 83 dont le premier éléments vaut [3.0517578e-05]\n",
      "Réception du chunk numéro 84 dont le premier éléments vaut [0.]\n",
      "Réception du chunk numéro 85 dont le premier éléments vaut [6.1035156e-05]\n",
      "Réception du chunk numéro 86 dont le premier éléments vaut [-9.1552734e-05]\n",
      "Réception du chunk numéro 87 dont le premier éléments vaut [-6.1035156e-05]\n",
      "Réception du chunk numéro 88 dont le premier éléments vaut [-0.00015259]\n",
      "Réception du chunk numéro 89 dont le premier éléments vaut [0.00021362]\n",
      "Réception du chunk numéro 90 dont le premier éléments vaut [-6.1035156e-05]\n",
      "Réception du chunk numéro 91 dont le premier éléments vaut [6.1035156e-05]\n",
      "Réception du chunk numéro 92 dont le premier éléments vaut [-0.00012207]\n",
      "Réception du chunk numéro 93 dont le premier éléments vaut [-9.1552734e-05]\n",
      "Réception du chunk numéro 94 dont le premier éléments vaut [6.1035156e-05]\n",
      "Réception du chunk numéro 95 dont le premier éléments vaut [-0.00024414]\n",
      "Réception du chunk numéro 96 dont le premier éléments vaut [-3.0517578e-05]\n",
      "Réception du chunk numéro 97 dont le premier éléments vaut [6.1035156e-05]\n",
      "Réception du chunk numéro 98 dont le premier éléments vaut [0.]\n",
      "Réception du chunk numéro 99 dont le premier éléments vaut [-9.1552734e-05]\n",
      "Réception du chunk numéro 100 dont le premier éléments vaut [9.1552734e-05]\n",
      "Réception du chunk numéro 101 dont le premier éléments vaut [-6.1035156e-05]\n",
      "Réception du chunk numéro 102 dont le premier éléments vaut [-6.1035156e-05]\n",
      "Réception du chunk numéro 103 dont le premier éléments vaut [6.1035156e-05]\n",
      "Réception du chunk numéro 104 dont le premier éléments vaut [-6.1035156e-05]\n",
      "Réception du chunk numéro 105 dont le premier éléments vaut [-6.1035156e-05]\n",
      "Réception du chunk numéro 106 dont le premier éléments vaut [0.]\n",
      "Réception du chunk numéro 107 dont le premier éléments vaut [6.1035156e-05]\n",
      "Réception du chunk numéro 108 dont le premier éléments vaut [3.0517578e-05]\n",
      "Réception du chunk numéro 109 dont le premier éléments vaut [-6.1035156e-05]\n",
      "Réception du chunk numéro 110 dont le premier éléments vaut [0.]\n",
      "Réception du chunk numéro 111 dont le premier éléments vaut [3.0517578e-05]\n",
      "Réception du chunk numéro 112 dont le premier éléments vaut [0.00021362]\n",
      "Réception du chunk numéro 113 dont le premier éléments vaut [-3.0517578e-05]\n",
      "Réception du chunk numéro 114 dont le premier éléments vaut [0.00012207]\n",
      "Réception du chunk numéro 115 dont le premier éléments vaut [9.1552734e-05]\n",
      "Réception du chunk numéro 116 dont le premier éléments vaut [-3.0517578e-05]\n",
      "Réception du chunk numéro 117 dont le premier éléments vaut [9.1552734e-05]\n",
      "Réception du chunk numéro 118 dont le premier éléments vaut [0.]\n",
      "Réception du chunk numéro 119 dont le premier éléments vaut [3.0517578e-05]\n",
      "Réception du chunk numéro 120 dont le premier éléments vaut [0.00012207]\n",
      "Réception du chunk numéro 121 dont le premier éléments vaut [-9.1552734e-05]\n",
      "Réception du chunk numéro 122 dont le premier éléments vaut [9.1552734e-05]\n",
      "Réception du chunk numéro 123 dont le premier éléments vaut [0.00012207]\n",
      "Réception du chunk numéro 124 dont le premier éléments vaut [-6.1035156e-05]\n",
      "Réception du chunk numéro 125 dont le premier éléments vaut [-0.00018311]\n",
      "Réception du chunk numéro 126 dont le premier éléments vaut [3.0517578e-05]\n",
      "Réception du chunk numéro 127 dont le premier éléments vaut [-6.1035156e-05]\n",
      "Réception du chunk numéro 128 dont le premier éléments vaut [-9.1552734e-05]\n",
      "Réception du chunk numéro 129 dont le premier éléments vaut [6.1035156e-05]\n",
      "Réception du chunk numéro 130 dont le premier éléments vaut [-3.0517578e-05]\n",
      "Réception du chunk numéro 131 dont le premier éléments vaut [-0.00012207]\n",
      "FIn du stream\n",
      "132 bloc ont été reçu\n"
     ]
    }
   ],
   "source": [
    "print(sd.query_devices())\n",
    "\n",
    "nombre_blocs = 0\n",
    "\n",
    "def print_number(indata, frames, time, status):\n",
    "    global nombre_blocs\n",
    "    print(f\"Réception du chunk numéro {nombre_blocs} dont le premier éléments vaut {indata[0]}\")\n",
    "    nombre_blocs += 1\n",
    "stream = sd.InputStream(callback=print_number, blocksize=10000, channels=1)\n",
    "print(\"Démarrage du stream\")\n",
    "stream.start()\n",
    "time.sleep(30)\n",
    "stream.stop()\n",
    "print(\"FIn du stream\")\n",
    "print(f\"{nombre_blocs} bloc ont été reçu\")\n"
   ]
  },
  {
   "cell_type": "markdown",
   "metadata": {},
   "source": [
    "### Emission"
   ]
  },
  {
   "cell_type": "code",
   "execution_count": 1,
   "metadata": {},
   "outputs": [
    {
     "name": "stdout",
     "output_type": "stream",
     "text": [
      "a\n"
     ]
    }
   ],
   "source": [
    "print(\"a\")"
   ]
  }
 ],
 "metadata": {
  "kernelspec": {
   "display_name": "Python 3 (ipykernel)",
   "language": "python",
   "name": "python3"
  },
  "language_info": {
   "codemirror_mode": {
    "name": "ipython",
    "version": 3
   },
   "file_extension": ".py",
   "mimetype": "text/x-python",
   "name": "python",
   "nbconvert_exporter": "python",
   "pygments_lexer": "ipython3",
   "version": "3.11.5"
  }
 },
 "nbformat": 4,
 "nbformat_minor": 2
}
