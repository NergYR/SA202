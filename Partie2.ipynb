{
 "cells": [
  {
   "cell_type": "markdown",
   "metadata": {},
   "source": [
    "# Notebook SAE 202"
   ]
  },
  {
   "cell_type": "markdown",
   "metadata": {},
   "source": [
    "## Partie II\n"
   ]
  },
  {
   "cell_type": "code",
   "execution_count": 2,
   "metadata": {},
   "outputs": [],
   "source": [
    "import sounddevice as sd\n",
    "import time"
   ]
  },
  {
   "cell_type": "code",
   "execution_count": 5,
   "metadata": {},
   "outputs": [
    {
     "name": "stdout",
     "output_type": "stream",
     "text": [
      "   0 Mappeur de sons Microsoft - Input, MME (2 in, 0 out)\n",
      ">  1 Microphone (USB Audio Device), MME (2 in, 0 out)\n",
      "   2 AI Noise-cancelling Input (ASUS, MME (2 in, 0 out)\n",
      "   3 Réseau de microphones (Realtek(, MME (2 in, 0 out)\n",
      "   4 Headset Microphone (Oculus Virt, MME (2 in, 0 out)\n",
      "   5 Mappeur de sons Microsoft - Output, MME (0 in, 2 out)\n",
      "<  6 Haut-parleurs (USB Audio Device, MME (0 in, 2 out)\n",
      "   7 AI Noise-cancelling Output (ASU, MME (0 in, 2 out)\n",
      "   8 Haut-parleurs (Realtek(R) Audio, MME (0 in, 2 out)\n",
      "   9 Casque (Oculus Virtual Audio De, MME (0 in, 2 out)\n",
      "  10 Pilote de capture audio principal, Windows DirectSound (2 in, 0 out)\n",
      "  11 Microphone (USB Audio Device), Windows DirectSound (2 in, 0 out)\n",
      "  12 AI Noise-cancelling Input (ASUS Utility), Windows DirectSound (2 in, 0 out)\n",
      "  13 Réseau de microphones (Realtek(R) Audio), Windows DirectSound (2 in, 0 out)\n",
      "  14 Headset Microphone (Oculus Virtual Audio Device), Windows DirectSound (2 in, 0 out)\n",
      "  15 Périphérique audio principal, Windows DirectSound (0 in, 2 out)\n",
      "  16 Haut-parleurs (USB Audio Device), Windows DirectSound (0 in, 2 out)\n",
      "  17 AI Noise-cancelling Output (ASUS Utility), Windows DirectSound (0 in, 2 out)\n",
      "  18 Haut-parleurs (Realtek(R) Audio), Windows DirectSound (0 in, 2 out)\n",
      "  19 Casque (Oculus Virtual Audio Device), Windows DirectSound (0 in, 2 out)\n",
      "  20 Realtek ASIO, ASIO (2 in, 2 out)\n",
      "  21 Haut-parleurs (USB Audio Device), Windows WASAPI (0 in, 2 out)\n",
      "  22 AI Noise-cancelling Output (ASUS Utility), Windows WASAPI (0 in, 2 out)\n",
      "  23 Haut-parleurs (Realtek(R) Audio), Windows WASAPI (0 in, 2 out)\n",
      "  24 Casque (Oculus Virtual Audio Device), Windows WASAPI (0 in, 2 out)\n",
      "  25 AI Noise-cancelling Input (ASUS Utility), Windows WASAPI (2 in, 0 out)\n",
      "  26 Microphone (USB Audio Device), Windows WASAPI (1 in, 0 out)\n",
      "  27 Réseau de microphones (Realtek(R) Audio), Windows WASAPI (2 in, 0 out)\n",
      "  28 Headset Microphone (Oculus Virtual Audio Device), Windows WASAPI (1 in, 0 out)\n",
      "  29 Output 1 (OCULUSVAD Wave Speaker Headphone), Windows WDM-KS (0 in, 2 out)\n",
      "  30 Output 2 (OCULUSVAD Wave Speaker Headphone), Windows WDM-KS (0 in, 2 out)\n",
      "  31 Input (OCULUSVAD Wave Speaker Headphone), Windows WDM-KS (2 in, 0 out)\n",
      "  32 Headset Microphone (OCULUSVAD Wave Microphone Headphone), Windows WDM-KS (1 in, 0 out)\n",
      "  33 Speakers 1 (Realtek HD Audio output with HAP), Windows WDM-KS (0 in, 2 out)\n",
      "  34 Speakers 2 (Realtek HD Audio output with HAP), Windows WDM-KS (0 in, 2 out)\n",
      "  35 Haut-parleur du PC (Realtek HD Audio output with HAP), Windows WDM-KS (2 in, 0 out)\n",
      "  36 Headphones (Realtek HD Audio 2nd output), Windows WDM-KS (0 in, 2 out)\n",
      "  37 Microphone (Realtek HD Audio Mic input), Windows WDM-KS (2 in, 0 out)\n",
      "  38 Mixage stéréo (Realtek HD Audio Stereo input), Windows WDM-KS (2 in, 0 out)\n",
      "  39 Réseau de microphones (Realtek HD Audio Mic Array input), Windows WDM-KS (2 in, 0 out)\n",
      "  40 AI Noise-cancelling Input (Intelligo VAC (W)), Windows WDM-KS (2 in, 0 out)\n",
      "  41 Line Out 1 (Intelligo VAC (W)), Windows WDM-KS (0 in, 2 out)\n",
      "  42 System Virtual Line (Intelligo VAC (W)), Windows WDM-KS (2 in, 0 out)\n",
      "  43 Line Out 2 (Intelligo VAC (W)), Windows WDM-KS (0 in, 2 out)\n",
      "  44 Haut-parleurs (USB Audio Device), Windows WDM-KS (0 in, 2 out)\n",
      "  45 Microphone (USB Audio Device), Windows WDM-KS (1 in, 0 out)\n"
     ]
    }
   ],
   "source": [
    "print(sd.query_devices())"
   ]
  },
  {
   "cell_type": "code",
   "execution_count": 3,
   "metadata": {},
   "outputs": [
    {
     "name": "stdout",
     "output_type": "stream",
     "text": [
      "################################################################################\n",
      "press Return to quit\n",
      "################################################################################\n"
     ]
    }
   ],
   "source": [
    "fs = 10000\n",
    "\n",
    "def callback(indata, outdata, frames, time, status):\n",
    "    if status:\n",
    "        print(status)\n",
    "\n",
    "    outdata[:] = indata\n",
    "stream = sd.Stream(samplerate=fs, callback=callback)\n",
    "\n",
    "try:\n",
    "    with stream:\n",
    "        print('#' * 80)\n",
    "        print('press Return to quit')\n",
    "        print('#' * 80)\n",
    "        input()\n",
    "\n",
    "except KeyboardInterrupt:\n",
    "    exit('')\n"
   ]
  },
  {
   "cell_type": "code",
   "execution_count": null,
   "metadata": {},
   "outputs": [],
   "source": [
    "event = threading.Event()\n",
    "\n",
    "try:\n",
    "    data, fs = sf.read('NR4.wav', always_2d=True)\n",
    "    current_frame"
   ]
  }
 ],
 "metadata": {
  "kernelspec": {
   "display_name": "Python 3 (ipykernel)",
   "language": "python",
   "name": "python3"
  },
  "language_info": {
   "codemirror_mode": {
    "name": "ipython",
    "version": 3
   },
   "file_extension": ".py",
   "mimetype": "text/x-python",
   "name": "python",
   "nbconvert_exporter": "python",
   "pygments_lexer": "ipython3",
   "version": "3.12.2"
  }
 },
 "nbformat": 4,
 "nbformat_minor": 2
}
