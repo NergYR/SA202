{
 "cells": [
  {
   "cell_type": "markdown",
   "metadata": {},
   "source": [
    "# Notebook SAE 202"
   ]
  },
  {
   "cell_type": "markdown",
   "metadata": {},
   "source": [
    "### Partie I\n"
   ]
  },
  {
   "cell_type": "markdown",
   "metadata": {},
   "source": [
    "Chargement du fichier audio et import des librairies pour la suite du Notebook "
   ]
  },
  {
   "cell_type": "code",
   "execution_count": 4,
   "metadata": {},
   "outputs": [],
   "source": [
    "import numpy as np\n",
    "import matplotlib.pyplot as plt\n",
    "import scipy as sc\n",
    "import soundfile as sf\n",
    "\n",
    "file =\"NR4.wav\"\n",
    "\n",
    "data, samplerate = sf.read(file)\n"
   ]
  },
  {
   "cell_type": "markdown",
   "metadata": {},
   "source": [
    "Affichage de la tranche du signal et ça FFT"
   ]
  },
  {
   "cell_type": "code",
   "execution_count": 23,
   "metadata": {},
   "outputs": [
    {
     "data": {
      "image/png": "[encoded data removed]",
      "text/plain": [
       "<Figure size 432x288 with 1 Axes>"
      ]
     },
     "metadata": {
      "needs_background": "light"
     },
     "output_type": "display_data"
    }
   ],
   "source": [
    "tranche = data[int(1*samplerate):int(20000*samplerate)]\n",
    "\n",
    "N = len(tranche)\n",
    "tfft = N*samplerate\n",
    "\n",
    "# FFT Billatérale\n",
    "fft = (1/N)*(np.fft.fft(tranche))\n",
    "\n",
    "# Calcul de la FFT Monolatérale\n",
    "fft_mono = np.concatenate((fft[0:1], 2*fft[1:int(N/2)]))\n",
    "# On calcul la valeur absolue de fft_mono pour obtenir la fft monolatérale\n",
    "fft_mono_abs = np.abs(fft_mono)\n",
    "\n",
    "\n",
    "# Calcul de la Densité spectrale en Volt efficace sur RBW\n",
    "fft_mono_eff = fft_mono_abs/np.sqrt(2)\n",
    "\n",
    "# Calcul de la Densité spectrale en dBm sur RBW\n",
    "fft_mono_dbm = 10*np.log10(np.square(fft_mono_eff)/50*1000)\n",
    "\n",
    "# Calcul de la plage de fréquence pour la FFT\n",
    "f_tranche = np.arange(0, samplerate/2, samplerate/N)\n",
    "\n",
    "\n",
    "# Affichage de la FFT\n",
    "plt.figure()\n",
    "plt.plot(f_tranche, fft_mono_eff)\n",
    "plt.xlabel('Fréquence (Hz)')\n",
    "plt.ylabel('Densité spectrale en Volteff sur RBW (Volt)')\n",
    "plt.title('Densité spectrale de puissance de la FFT')\n",
    "# affichage entre 0 et 1K Hz\n",
    "plt.xlim(0, 4000)\n",
    "plt.grid()\n",
    "plt.show()\n",
    "\n"
   ]
  },
  {
   "cell_type": "markdown",
   "metadata": {},
   "source": [
    "Calcul de la largeur de bande du signal"
   ]
  },
  {
   "cell_type": "code",
   "execution_count": 25,
   "metadata": {},
   "outputs": [
    {
     "name": "stdout",
     "output_type": "stream",
     "text": [
      "49999.97435897436\n"
     ]
    }
   ],
   "source": [
    "#on récupère les fréquences\n",
    "f_max = np.max(f_tranche)\n",
    "f_min = np.min(f_tranche)\n",
    "\n",
    "# Calcul de la bande de fréquences\n",
    "bandwidth = f_max - f_min\n",
    "\n",
    "print(bandwidth)\n"
   ]
  },
  {
   "cell_type": "markdown",
   "metadata": {},
   "source": [
    "Fréquence d'échantillonnage, nombre de bit de codage et le nombre de niveau de quantification."
   ]
  },
  {
   "cell_type": "code",
   "execution_count": 27,
   "metadata": {},
   "outputs": [
    {
     "ename": "TypeError",
     "evalue": "can only concatenate str (not \"int\") to str",
     "output_type": "error",
     "traceback": [
      "\u001b[1;31m---------------------------------------------------------------------------\u001b[0m",
      "\u001b[1;31mTypeError\u001b[0m                                 Traceback (most recent call last)",
      "Input \u001b[1;32mIn [27]\u001b[0m, in \u001b[0;36m<cell line: 1>\u001b[1;34m()\u001b[0m\n\u001b[1;32m----> 1\u001b[0m \u001b[38;5;28mprint\u001b[39m(\u001b[38;5;124;43m\"\u001b[39;49m\u001b[38;5;124;43mLa fréquence d\u001b[39;49m\u001b[38;5;124;43m'\u001b[39;49m\u001b[38;5;124;43méchantillonnage est : \u001b[39;49m\u001b[38;5;124;43m\"\u001b[39;49m\u001b[43m \u001b[49m\u001b[38;5;241;43m+\u001b[39;49m\u001b[43m \u001b[49m\u001b[43msamplerate\u001b[49m)\n",
      "\u001b[1;31mTypeError\u001b[0m: can only concatenate str (not \"int\") to str"
     ]
    }
   ],
   "source": [
    "print(f\"La fréquence d'échantillonnage est : {samplerate} Hz\")\n",
    "\n"
   ]
  },
  {
   "cell_type": "code",
   "execution_count": null,
   "metadata": {},
   "outputs": [],
   "source": []
  }
 ],
 "metadata": {
  "kernelspec": {
   "display_name": "Python 3 (ipykernel)",
   "language": "python",
   "name": "python3"
  },
  "language_info": {
   "codemirror_mode": {
    "name": "ipython",
    "version": 3
   },
   "file_extension": ".py",
   "mimetype": "text/x-python",
   "name": "python",
   "nbconvert_exporter": "python",
   "pygments_lexer": "ipython3",
   "version": "3.9.12"
  }
 },
 "nbformat": 4,
 "nbformat_minor": 2
}
